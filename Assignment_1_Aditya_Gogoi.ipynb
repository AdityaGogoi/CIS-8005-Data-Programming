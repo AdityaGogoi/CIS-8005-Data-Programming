{
 "cells": [
  {
   "cell_type": "markdown",
   "metadata": {},
   "source": [
    "## Assignment 1\n",
    "#### Chapter 1"
   ]
  },
  {
   "cell_type": "markdown",
   "metadata": {},
   "source": [
    "##### Q.1.11\n",
    "##### Calculating number of seconds every year"
   ]
  },
  {
   "cell_type": "code",
   "execution_count": 9,
   "metadata": {
    "collapsed": false
   },
   "outputs": [
    {
     "name": "stdout",
     "output_type": "stream",
     "text": [
      "4505142\n",
      "2425846\n",
      "700800\n",
      "Population for year  1  is  314812582\n",
      "Population for year  2  is  317592678\n",
      "Population for year  3  is  320372774\n",
      "Population for year  4  is  323152870\n",
      "Population for year  5  is  325932966\n"
     ]
    }
   ],
   "source": [
    "year_sec = 365*24*60*60\n",
    "year_birth = year_sec // 7\n",
    "year_death = year_sec // 13\n",
    "year_immig = year_sec //45\n",
    "current_pop = 312032486\n",
    "print(year_birth)\n",
    "print(year_death)\n",
    "print(year_immig)\n",
    "\n",
    "years = 5\n",
    "for i in range(years):\n",
    "    current_pop = current_pop + year_birth - year_death + year_immig\n",
    "    print(\"Population for year \", i+1,\" is \",current_pop)"
   ]
  },
  {
   "cell_type": "markdown",
   "metadata": {},
   "source": [
    "##### Q.1.18\n",
    "##### Drawing a Star\n",
    "##### Keeping side length = 50 and Angle = 180 - 60 = 144"
   ]
  },
  {
   "cell_type": "code",
   "execution_count": 1,
   "metadata": {
    "collapsed": false
   },
   "outputs": [],
   "source": [
    "import turtle as t\n",
    "\n",
    "size = 50\n",
    "angle = 144\n",
    "for i in range(5):\n",
    "    t.forward(size)\n",
    "    t.right(angle)\n",
    "    i += 1\n",
    "t.done()"
   ]
  },
  {
   "cell_type": "markdown",
   "metadata": {
    "collapsed": true
   },
   "source": [
    "##### Q.1.21 \n",
    "##### Drawing an Analog Clock to show the time 9:15:00"
   ]
  },
  {
   "cell_type": "code",
   "execution_count": 10,
   "metadata": {
    "collapsed": false
   },
   "outputs": [],
   "source": [
    "import turtle as t\n",
    "\n",
    "t.penup()\n",
    "t.goto(0,-100)\n",
    "t.pendown()\n",
    "t.circle(100)\n",
    "t.penup()\n",
    "t.goto(0,0)\n",
    "t.goto(0,86)\n",
    "t.write(\"12\",align=\"center\")\n",
    "t.goto(90,0)\n",
    "t.write(\"3\",align=\"center\")\n",
    "t.goto(-88,0)\n",
    "t.write(\"9\",align=\"center\")\n",
    "t.goto(0,-100)\n",
    "t.write(\"6\",align=\"center\")\n",
    "t.goto(0,100)\n",
    "t.goto(0,0)\n",
    "t.pendown()\n",
    "t.pensize(3)\n",
    "t.goto(0,80)\n",
    "t.goto(0,0)\n",
    "t.pensize(1.2)\n",
    "t.forward(60)\n",
    "t.goto(0,0)\n",
    "t.pensize(0)\n",
    "t.back(35)\n",
    "t.penup()\n",
    "t.goto(0,0)\n",
    "t.goto(0,-124)\n",
    "t.write(\"9:15:00\",align=\"center\")\n",
    "t.hideturtle()\n",
    "t.done()"
   ]
  },
  {
   "cell_type": "markdown",
   "metadata": {},
   "source": [
    "#### Chapter 2"
   ]
  },
  {
   "cell_type": "markdown",
   "metadata": {
    "collapsed": true
   },
   "source": [
    "##### Q.2.5.\n",
    "##### Calculating Gratuity and Total."
   ]
  },
  {
   "cell_type": "code",
   "execution_count": 3,
   "metadata": {
    "collapsed": false
   },
   "outputs": [
    {
     "name": "stdout",
     "output_type": "stream",
     "text": [
      "Enter the subtotal and gratuity rate:15.69,15\n",
      "The gratuity is  2.3535  and the total is  18.043499999999998\n"
     ]
    }
   ],
   "source": [
    "\n",
    "def grat_cal(subtotal, grat_rate):\n",
    "    gratuity = (grat_rate/100)*subtotal\n",
    "    total = subtotal + gratuity\n",
    "    print(\"The gratuity is \", gratuity,\" and the total is \",total)\n",
    "    \n",
    "subtotal, grat_rate= eval(input(\"Enter the subtotal and gratuity rate:\"))\n",
    "grat_cal(subtotal,grat_rate)"
   ]
  },
  {
   "cell_type": "markdown",
   "metadata": {
    "collapsed": true
   },
   "source": [
    "##### Q.2.6. \n",
    "##### Calculating sum of digits"
   ]
  },
  {
   "cell_type": "code",
   "execution_count": 7,
   "metadata": {
    "collapsed": false
   },
   "outputs": [
    {
     "name": "stdout",
     "output_type": "stream",
     "text": [
      "Enter a number between 0 and 1000:234\n",
      "The sum of the digits is:  9\n"
     ]
    }
   ],
   "source": [
    "def sum_dig(num):\n",
    "    sum_dig = 0\n",
    "    while (num > 0):\n",
    "        sum_dig += num % 10\n",
    "        num = num // 10\n",
    "    print(\"The sum of the digits is: \", sum_dig)\n",
    "    \n",
    "number = eval(input(\"Enter a number between 0 and 1000:\"))\n",
    "if (number >= 0) and (number <= 1000):\n",
    "    sum_dig(number)\n",
    "else:\n",
    "    print(\"Number out of range. Please run the program again.\")"
   ]
  },
  {
   "cell_type": "markdown",
   "metadata": {
    "collapsed": true
   },
   "source": [
    "##### Q.2.7.\n",
    "##### Converting minutes into years and days\n",
    "##### Assuming year has 365 days"
   ]
  },
  {
   "cell_type": "code",
   "execution_count": 8,
   "metadata": {
    "collapsed": false
   },
   "outputs": [
    {
     "name": "stdout",
     "output_type": "stream",
     "text": [
      "Enter the number of minutes:1000000000\n",
      "1000000000  minutes is approximately  1902  and  214  days\n"
     ]
    }
   ],
   "source": [
    "year_min = 365*24*60\n",
    "day_min = 24*60\n",
    "def convert(min1):\n",
    "    years = min1 // year_min\n",
    "    min2 = min1 % year_min\n",
    "    days = min2 // day_min\n",
    "    print(min1, \" minutes is approximately \",years,\" and \",days,\" days\")\n",
    "    \n",
    "minutes = eval(input(\"Enter the number of minutes:\"))\n",
    "convert(minutes)"
   ]
  },
  {
   "cell_type": "markdown",
   "metadata": {
    "collapsed": true
   },
   "source": [
    "##### Q.2.14.\n",
    "##### Calculating area of triangle in cartesian coordinate system."
   ]
  },
  {
   "cell_type": "code",
   "execution_count": 9,
   "metadata": {
    "collapsed": false
   },
   "outputs": [
    {
     "name": "stdout",
     "output_type": "stream",
     "text": [
      "Enter three points for a triangle:1.5,-3.4,4.6,5,9.5,-3.4\n",
      "The area of the triangle is  33.600000000000016\n"
     ]
    }
   ],
   "source": [
    "def area_tri(s1,s2,s3):\n",
    "    semi_perim = (s1+s2+s3)/2\n",
    "    area = (semi_perim*(semi_perim-s1)*(semi_perim-s2)*(semi_perim-s3)) ** 0.5\n",
    "    print(\"The area of the triangle is \",area)\n",
    "\n",
    "def side_calc(x1,y1,x2,y2,x3,y3):\n",
    "    s1 = (((x2-x1)**2)+((y2-y1)**2)) ** 0.5\n",
    "    s2 = (((x3-x2)**2)+((y3-y2)**2)) ** 0.5\n",
    "    s3 = (((x1-x3)**2)+((y1-y3)**2)) ** 0.5\n",
    "    return s1,s2,s3\n",
    "\n",
    "x1,y1,x2,y2,x3,y3=eval(input(\"Enter three points for a triangle:\"))\n",
    "s1,s2,s3=side_calc(x1,y1,x2,y2,x3,y3)\n",
    "area_tri(s1,s2,s3)\n",
    "    "
   ]
  },
  {
   "cell_type": "markdown",
   "metadata": {
    "collapsed": true
   },
   "source": [
    "##### Q.2.21.\n",
    "##### Compound Interest Calculation\n",
    "##### Assuming Monthly Rate of Interest is 0.00417 i.e.0.417% per month"
   ]
  },
  {
   "cell_type": "code",
   "execution_count": 15,
   "metadata": {
    "collapsed": false
   },
   "outputs": [
    {
     "name": "stdout",
     "output_type": "stream",
     "text": [
      "Enter the monthly saving amount:100\n",
      "After the sixth month, the account value is  608.8181155768638\n"
     ]
    }
   ],
   "source": [
    "def comp_int(saving):\n",
    "    interest=0\n",
    "    account_value=0\n",
    "    for month in range(6):\n",
    "        interest = (saving + interest) * (1 + 0.00417)\n",
    "    print(\"After the sixth month, the account value is \", interest)\n",
    "    \n",
    "saving = eval(input(\"Enter the monthly saving amount:\"))\n",
    "comp_int(saving)"
   ]
  },
  {
   "cell_type": "markdown",
   "metadata": {
    "collapsed": true
   },
   "source": [
    "##### Q.2.25.\n",
    "##### Drawing a rectangle of input dimensions"
   ]
  },
  {
   "cell_type": "code",
   "execution_count": 12,
   "metadata": {
    "collapsed": false
   },
   "outputs": [
    {
     "name": "stdout",
     "output_type": "stream",
     "text": [
      "Enter coordinates(x,y), height and width of the rectangle:0,20,150,250\n"
     ]
    }
   ],
   "source": [
    "import turtle as t\n",
    "\n",
    "def draw_rect(x,y,h,w):\n",
    "    t.penup()\n",
    "    t.goto(x,y)\n",
    "    t.setheading(0)\n",
    "    t.forward(w / 2)\n",
    "    t.setheading(270)\n",
    "    t.pendown()\n",
    "    t.forward(h / 2)\n",
    "    t.setheading(180)\n",
    "    t.forward(w)\n",
    "    t.setheading(90)\n",
    "    t.forward(h)\n",
    "    t.setheading(0)\n",
    "    t.forward(w)\n",
    "    t.setheading(270)\n",
    "    t.forward(h / 2)\n",
    "    t.penup()\n",
    "    t.done()\n",
    "    \n",
    "x,y,h,w=eval(input(\"Enter coordinates(x,y), height and width of the rectangle:\"))\n",
    "draw_rect(x,y,h,w)"
   ]
  },
  {
   "cell_type": "markdown",
   "metadata": {
    "collapsed": true
   },
   "source": [
    "#### Chapter 3"
   ]
  },
  {
   "cell_type": "markdown",
   "metadata": {
    "collapsed": true
   },
   "source": [
    "##### Q.3.3.\n",
    "##### Finding area enclosed by Atlanta, Orlando, Savannah and Charlotte\n",
    "\n",
    "##### Coordinates :-\n",
    "##### Atlanta = lat=33.7405800 & lon=-84.5545400\n",
    "##### Orlando = lat=28.4115300 & lon=-81.5250400\n",
    "##### Savannah = lat=32.1672300 & lon=-81.1998900\n",
    "##### Charlotte = lat=35.2072400 & lon=-80.9567600\n",
    "\n",
    "##### 2 triangles - Atlanta, Charlotte and Savannah\n",
    "#####               Atlanta, Savannah and Orlando"
   ]
  },
  {
   "cell_type": "code",
   "execution_count": 20,
   "metadata": {
    "collapsed": false
   },
   "outputs": [
    {
     "name": "stdout",
     "output_type": "stream",
     "text": [
      "Area enclosed between Atlanta, Orlando, Savannah and Charlotte is  122230.970006  sq.km.\n"
     ]
    }
   ],
   "source": [
    "\n",
    "import math\n",
    "import numpy as np\n",
    "def dist_calc(x1,y1,x2,y2):\n",
    "    d = 6371.01 * np.arccos(math.sin(x1)*math.sin(x2) + math.cos(x1)*math.cos(x2) * math.cos(y1-y2))\n",
    "    return d\n",
    "\n",
    "def area_tri(s1,s2,s3):\n",
    "    semi_perim = (s1+s2+s3)/2\n",
    "    area = (semi_perim*(semi_perim-s1)*(semi_perim-s2)*(semi_perim-s3)) ** 0.5\n",
    "    return area\n",
    "    \n",
    "atl_x = math.radians(33.74)\n",
    "atl_y = math.radians(-84.55)\n",
    "orl_x = math.radians(28.41)\n",
    "orl_y = math.radians(-81.52)\n",
    "sav_x = math.radians(32.17)\n",
    "sav_y = math.radians(-81.19)\n",
    "cha_x = math.radians(35.21)\n",
    "cha_y = math.radians(-80.96)\n",
    "\n",
    "atl2orl = dist_calc(atl_x,atl_y,orl_x,orl_y)\n",
    "orl2sav = dist_calc(orl_x,orl_y,sav_x,sav_y)\n",
    "sav2cha = dist_calc(sav_x,sav_y,cha_x,cha_y)\n",
    "atl2sav = dist_calc(atl_x,atl_y,sav_x,sav_y)\n",
    "atl2cha = dist_calc(atl_x,atl_y,cha_x,cha_y)\n",
    "\n",
    "atl_char_sav = area_tri(atl2cha,sav2cha,atl2sav)\n",
    "atl_sav_orl = area_tri(atl2sav,orl2sav,atl2orl)\n",
    "\n",
    "area_enclosed = atl_char_sav + atl_sav_orl\n",
    "\n",
    "print(\"Area enclosed between Atlanta, Orlando, Savannah and Charlotte is \",area_enclosed,\" sq.km.\")\n",
    "\n"
   ]
  },
  {
   "cell_type": "markdown",
   "metadata": {
    "collapsed": true
   },
   "source": [
    "##### Q.3.9.\n",
    "##### Payroll creation"
   ]
  },
  {
   "cell_type": "code",
   "execution_count": 25,
   "metadata": {
    "collapsed": false
   },
   "outputs": [
    {
     "name": "stdout",
     "output_type": "stream",
     "text": [
      "Enter employee's name:Aditya Gogoi\n",
      "Enter number of hours worked in a week:10\n",
      "Enter hourly pay rate:9.75\n",
      "Enter federal tax withholding rate:0.20\n",
      "Enter state tax withholding rate:0.09\n",
      "Employee Name:  Aditya Gogoi\n",
      "Hours Worked:  10\n",
      "Pay Rate: $ 9.75\n",
      "Gross Pay: $ 97.5\n",
      "Deductions:\n",
      "\tFederal Withholding ( 20.0 %): $ 19.5\n",
      "\tState Withholding ( 9.0 %): $ 8.775\n",
      "\tTotal Deduction: $ 28.275\n",
      "Net Pay: $ 69.225\n"
     ]
    }
   ],
   "source": [
    "def payroll_calc(rate,hours,fed_tax_rate,state_tax_rate):\n",
    "    gross_pay = rate * hours\n",
    "    fed_tax = fed_tax_rate * gross_pay\n",
    "    state_tax = state_tax_rate * gross_pay\n",
    "    total_deduction = fed_tax + state_tax\n",
    "    net_pay = gross_pay - total_deduction\n",
    "    return gross_pay, fed_tax, state_tax, total_deduction, net_pay\n",
    "\n",
    "emp_name = input(\"Enter employee's name:\")\n",
    "hours = eval(input(\"Enter number of hours worked in a week:\"))\n",
    "rate = eval(input(\"Enter hourly pay rate:\"))\n",
    "fed_tax_rate = eval(input(\"Enter federal tax withholding rate:\"))\n",
    "state_tax_rate = eval(input(\"Enter state tax withholding rate:\"))\n",
    "\n",
    "gross_pay,fed_tax,state_tax,total_deduction,net_pay = payroll_calc(rate,hours,fed_tax_rate,state_tax_rate)\n",
    "\n",
    "print(\"Employee Name: \", emp_name)\n",
    "print(\"Hours Worked: \", hours)\n",
    "print(\"Pay Rate: $\",rate)\n",
    "print(\"Gross Pay: $\",gross_pay)\n",
    "print(\"Deductions:\")\n",
    "print(\"\\tFederal Withholding (\",(fed_tax_rate*100),\"%): $\", fed_tax)\n",
    "print(\"\\tState Withholding (\",(state_tax_rate*100),\"%): $\", state_tax)\n",
    "print(\"\\tTotal Deduction: $\", total_deduction)\n",
    "print(\"Net Pay: $\",net_pay)"
   ]
  },
  {
   "cell_type": "markdown",
   "metadata": {
    "collapsed": true
   },
   "source": [
    "##### Q.3.11.\n",
    "##### Printing the reverse of a number"
   ]
  },
  {
   "cell_type": "code",
   "execution_count": 34,
   "metadata": {
    "collapsed": false
   },
   "outputs": [
    {
     "name": "stdout",
     "output_type": "stream",
     "text": [
      "Enter an integer:2387\n",
      "The reversed number is  7832\n"
     ]
    }
   ],
   "source": [
    "def rev_num(num):\n",
    "    length = len(num)\n",
    "    num = int(num)\n",
    "    rev_num = 0\n",
    "    for i in range(length):\n",
    "        digit=num % (10)\n",
    "        num = num // (10)\n",
    "        rev_num += digit * (10**(length-i-1))\n",
    "        \n",
    "    print(\"The reversed number is \",rev_num)\n",
    "    \n",
    "num = input(\"Enter an integer:\")\n",
    "rev_num(num)"
   ]
  },
  {
   "cell_type": "markdown",
   "metadata": {
    "collapsed": true
   },
   "source": [
    "##### Q.3.16.\n",
    "##### Drawing polygons with sides = 3,4,5,6,8."
   ]
  },
  {
   "cell_type": "code",
   "execution_count": 65,
   "metadata": {
    "collapsed": false
   },
   "outputs": [],
   "source": [
    "import turtle as t\n",
    "\n",
    "# Triangle\n",
    "t.penup()\n",
    "t.goto(-300,0)\n",
    "t.begin_fill()\n",
    "t.color(\"black\")\n",
    "t.setheading(60)\n",
    "t.pendown()\n",
    "t.circle(40, steps=3)\n",
    "t.end_fill()\n",
    "\n",
    "# Square\n",
    "t.penup()\n",
    "t.goto(-180,55)\n",
    "t.begin_fill()\n",
    "t.color(\"dark grey\")\n",
    "t.setheading(135)\n",
    "t.pendown()\n",
    "t.circle(40,steps=4)\n",
    "t.end_fill()\n",
    "\n",
    "# Pentagon\n",
    "t.penup()\n",
    "t.goto(-60,40)\n",
    "t.begin_fill()\n",
    "t.color(\"grey\")\n",
    "t.setheading(108)\n",
    "t.pendown()\n",
    "t.circle(40,steps=5)\n",
    "t.end_fill()\n",
    "\n",
    "# Hexagon\n",
    "t.penup()\n",
    "t.goto(60,60)\n",
    "t.begin_fill()\n",
    "t.color(\"black\")\n",
    "t.setheading(150)\n",
    "t.pendown()\n",
    "t.circle(40,steps=6)\n",
    "t.end_fill()\n",
    "\n",
    "# Octagon\n",
    "t.penup()\n",
    "t.goto(200,60)\n",
    "t.begin_fill()\n",
    "t.color(\"dark grey\")\n",
    "t.setheading(158)\n",
    "t.pendown()\n",
    "t.circle(40,steps=8)\n",
    "t.end_fill()\n",
    "t.hideturtle()\n",
    "\n",
    "t.done()"
   ]
  },
  {
   "cell_type": "markdown",
   "metadata": {
    "collapsed": true
   },
   "source": [
    "##### Q.3.19.\n",
    "##### Drawing a line based on coordinates of 2 points."
   ]
  },
  {
   "cell_type": "code",
   "execution_count": 70,
   "metadata": {
    "collapsed": false
   },
   "outputs": [
    {
     "name": "stdout",
     "output_type": "stream",
     "text": [
      "Enter the 2 coordinates: 0,10,200,-250\n"
     ]
    }
   ],
   "source": [
    "import turtle as t\n",
    "\n",
    "x1,y1,x2,y2=eval(input(\"Enter the 2 coordinates: \"))\n",
    "t.penup()\n",
    "t.goto(x1,y1)\n",
    "t.pendown()\n",
    "p1=t.pos()\n",
    "t.write(p1,align=\"center\")\n",
    "t.goto(x2,y2)\n",
    "p2=t.pos()\n",
    "t.write(p2,align=\"right\")\n",
    "t.hideturtle()\n",
    "t.done()"
   ]
  },
  {
   "cell_type": "markdown",
   "metadata": {
    "collapsed": true
   },
   "source": [
    "#### Chapter 4"
   ]
  },
  {
   "cell_type": "markdown",
   "metadata": {
    "collapsed": true
   },
   "source": [
    "##### Q.4.3.\n",
    "##### Solutions for linear equations."
   ]
  },
  {
   "cell_type": "code",
   "execution_count": 40,
   "metadata": {
    "collapsed": false
   },
   "outputs": [
    {
     "name": "stdout",
     "output_type": "stream",
     "text": [
      "For the set of linear equations:- \n",
      "1. ax + by = e &\n",
      "2. cx + dy = f\n",
      "Enter the values of a,b,c,d,e,f:9,4,3,-5,-6,-21\n",
      "x=  -2.0\n",
      "y=  3.0\n"
     ]
    }
   ],
   "source": [
    "def solution(a,b,c,d,e,f):\n",
    "    if (a*d - b*c == 0):\n",
    "        print(\"The equation has no solution\")\n",
    "    else:\n",
    "        x = (e*d - b*f)/(a*d - b*c)\n",
    "        y = (a*f - e*c)/(a*d - b*c)\n",
    "        print(\"x= \",x)\n",
    "        print(\"y= \",y)\n",
    "        \n",
    "print(\"For the set of linear equations:- \")\n",
    "print(\"1. ax + by = e &\")\n",
    "print(\"2. cx + dy = f\")\n",
    "a,b,c,d,e,f = eval(input(\"Enter the values of a,b,c,d,e,f:\"))\n",
    "solution(a,b,c,d,e,f)\n",
    "    "
   ]
  },
  {
   "cell_type": "markdown",
   "metadata": {
    "collapsed": true
   },
   "source": [
    "##### Q.4.5.\n",
    "##### Determinig day of the week from input."
   ]
  },
  {
   "cell_type": "code",
   "execution_count": 44,
   "metadata": {
    "collapsed": false
   },
   "outputs": [
    {
     "name": "stdout",
     "output_type": "stream",
     "text": [
      "Enter today's day:1\n",
      "Enter the number of days elapsed since today:5\n",
      "Today is  Monday  and the future day is  Saturday\n"
     ]
    }
   ],
   "source": [
    "days_of_week = { 0 : 'Sunday',\n",
    "                1 : 'Monday',\n",
    "               2 : 'Tuesday',\n",
    "               3 : 'Wednesday',\n",
    "               4 : 'Thursday',\n",
    "               5 : 'Friday',\n",
    "               6 : 'Saturday'}\n",
    "\n",
    "present_day = eval(input(\"Enter today's day:\"))\n",
    "no_of_days = eval(input(\"Enter the number of days elapsed since today:\"))\n",
    "if no_of_days >= 7:\n",
    "    no_of_days %= 7\n",
    "future_day = present_day + no_of_days\n",
    "\n",
    "print(\"Today is \",days_of_week[present_day],\" and the future day is \",days_of_week[future_day])\n"
   ]
  },
  {
   "cell_type": "markdown",
   "metadata": {
    "collapsed": true
   },
   "source": [
    "##### Q.4.15.\n",
    "##### Creating a 3 digit lottery system."
   ]
  },
  {
   "cell_type": "code",
   "execution_count": 64,
   "metadata": {
    "collapsed": false
   },
   "outputs": [
    {
     "name": "stdout",
     "output_type": "stream",
     "text": [
      "Enter 3 digits (0-9) for the lottery:3,7,2\n",
      "Winning number is: 2   8   4\n",
      "You have won  $1,000\n"
     ]
    }
   ],
   "source": [
    "from random import randint\n",
    "\n",
    "def lottery(a1,a2,a3):\n",
    "    user_list = [a1,a2,a3]\n",
    "    no_1 = randint(0,9)\n",
    "    no_2 = randint(0,9)\n",
    "    no_3 = randint(0,9)\n",
    "    win_list = [no_1,no_2,no_3]\n",
    "    print(\"Winning number is:\",no_1,\" \",no_2,\" \",no_3)\n",
    "    match = [i for i, j in zip(user_list, win_list) if i == j]\n",
    "    presence = set(user_list).intersection(win_list)\n",
    "    if len(match) == 3:\n",
    "        award = \"$10,000\"\n",
    "    elif len(presence) == 3:\n",
    "        award = \"$3,000\"\n",
    "    elif (a1 in win_list) or (a2 in win_list) or (a3 in win_list):\n",
    "        award = \"$1,000\"\n",
    "    else:\n",
    "        award = \"nothing\"\n",
    "    print(\"You have won \", award)\n",
    "        \n",
    "a1,a2,a3 = eval(input(\"Enter 3 digits (0-9) for the lottery:\"))\n",
    "lottery(a1,a2,a3)"
   ]
  },
  {
   "cell_type": "markdown",
   "metadata": {
    "collapsed": true
   },
   "source": [
    "##### Q.4.21.\n",
    "##### Applying Zeller's algorithm to get day of week."
   ]
  },
  {
   "cell_type": "code",
   "execution_count": 81,
   "metadata": {
    "collapsed": false
   },
   "outputs": [
    {
     "name": "stdout",
     "output_type": "stream",
     "text": [
      "Enter year: (e.g., 2008):2013\n",
      "Enter month: 1-12:1\n",
      "Enter the day of the month: 1-31:25\n",
      "Day of the week is  Friday\n"
     ]
    }
   ],
   "source": [
    "def day(year,month,dom):\n",
    "    q = dom\n",
    "    m = month\n",
    "    j = year//100  #century\n",
    "    k = year%100   #year \n",
    "    if m==1:\n",
    "        m = 13\n",
    "        k -=1\n",
    "    elif m==2:\n",
    "        m = 14\n",
    "        k -= 1\n",
    "    Z = ((13*(m + 1)) // 5) + (k // 4) + (j // 4) + q + k + 5*j\n",
    "    h = Z % 7\n",
    "    return h\n",
    "\n",
    "days_of_week = { 0 : 'Saturday',\n",
    "                1 : 'Sunday',\n",
    "               2 : 'Monday',\n",
    "               3 : 'Tuesday',\n",
    "               4 : 'Wednesday',\n",
    "               5 : 'Thursday',\n",
    "               6 : 'Friday'}\n",
    "\n",
    "year = eval(input(\"Enter year: (e.g., 2008):\"))\n",
    "month = eval(input(\"Enter month: 1-12:\"))\n",
    "dom = eval(input(\"Enter the day of the month: 1-31:\"))\n",
    "dow = day(year,month,dom)\n",
    "print(\"Day of the week is \", days_of_week[dow])         "
   ]
  },
  {
   "cell_type": "markdown",
   "metadata": {
    "collapsed": true
   },
   "source": [
    "##### Q.4.24.\n",
    "##### Display of Card picked"
   ]
  },
  {
   "cell_type": "code",
   "execution_count": 72,
   "metadata": {
    "collapsed": false
   },
   "outputs": [
    {
     "name": "stdout",
     "output_type": "stream",
     "text": [
      "The card you picked is the  9  of  Diamonds\n"
     ]
    }
   ],
   "source": [
    "from random import randint\n",
    "\n",
    "rank = {1 : \"Ace\",\n",
    "        2 : \"2\",\n",
    "       3 : \"3\",\n",
    "       4 : \"4\",\n",
    "       5 : \"5\",\n",
    "       6 : \"6\",\n",
    "       7 : \"7\",\n",
    "       8 : \"8\",\n",
    "       9 : \"9\",\n",
    "       10 : \"10\",\n",
    "       11 : \"Jack\",\n",
    "       12 : \"Queen\",\n",
    "       13 : \"King\"}\n",
    "\n",
    "suit = {1 : \"Clubs\",\n",
    "       2 : \"Diamonds\",\n",
    "       3 : \"Hearts\",\n",
    "       4 : \"Spades\"}\n",
    "\n",
    "rank_choice = randint(1,13)\n",
    "suit_choice = randint(1,4)\n",
    "print(\"The card you picked is the \",rank[rank_choice],\" of \",suit[suit_choice])"
   ]
  },
  {
   "cell_type": "markdown",
   "metadata": {
    "collapsed": true
   },
   "source": [
    "##### Q.4.29.\n",
    "##### Checking if two circles intersect or overlap"
   ]
  },
  {
   "cell_type": "code",
   "execution_count": 76,
   "metadata": {
    "collapsed": false
   },
   "outputs": [
    {
     "name": "stdout",
     "output_type": "stream",
     "text": [
      "Enter circle1's center x-, y-coordinates, and radius:4.4,5.5,1\n",
      "Enter circle2's center x-, y-coordinates, and radius:5.5,7.2,1\n",
      "The circle 2 does not overlap circle 1\n"
     ]
    }
   ],
   "source": [
    "def overlap_int(x1,y1,x2,y2,r1,r2):\n",
    "    dist_centres = ((x2 - x1)**2 + (y2 - y1)**2) ** 0.5\n",
    "    rad_diff2 = abs(r1 - r2)\n",
    "    rad_sum = r1 + r2\n",
    "    rad_diff1 = abs(r2 - r1)\n",
    "    if dist_centres <= rad_diff2:\n",
    "        print(\"The circle 2 is inside circle 1\")\n",
    "    elif dist_centres <= rad_diff1:\n",
    "        print(\"The circle 1 is inside circle 2\")\n",
    "    elif dist_centres <= rad_sum:\n",
    "        print(\"The circle 2 overlaps circle 1\")\n",
    "    else:\n",
    "        print(\"The circle 2 does not overlap circle 1\")\n",
    "        \n",
    "x1,y1,r1 = eval(input(\"Enter circle1's center x-, y-coordinates, and radius:\"))\n",
    "x2,y2,r2 = eval(input(\"Enter circle2's center x-, y-coordinates, and radius:\"))\n",
    "overlap_int(x1,y1,x2,y2,r1,r2)\n",
    "        "
   ]
  },
  {
   "cell_type": "markdown",
   "metadata": {
    "collapsed": true
   },
   "source": [
    "##### Q.4.39.\n",
    "##### Checking if two circles intersect or overlap with diagram"
   ]
  },
  {
   "cell_type": "code",
   "execution_count": null,
   "metadata": {
    "collapsed": false
   },
   "outputs": [
    {
     "name": "stdout",
     "output_type": "stream",
     "text": [
      "Enter circle1's center x-, y-coordinates, and radius:2.3,6.7,100\n",
      "Enter circle2's center x-, y-coordinates, and radius:-4.8,-3.2,60\n"
     ]
    }
   ],
   "source": [
    "import turtle as t\n",
    "\n",
    "def overlap_int(x1,y1,x2,y2,r1,r2):\n",
    "    t.penup()\n",
    "    t.goto(x1,y1)\n",
    "    t.pendown()\n",
    "    t.circle(r1)\n",
    "    t.penup()\n",
    "    t.goto(x2,y2)\n",
    "    t.pendown()\n",
    "    t.circle(r2)\n",
    "    dist_centres = ((x2 - x1)**2 + (y2 - y1)**2) ** 0.5\n",
    "    rad_diff2 = abs(r1 - r2)\n",
    "    rad_sum = r1 + r2\n",
    "    rad_diff1 = abs(r2 - r1)\n",
    "    if dist_centres <= rad_diff2:\n",
    "        t.write(\"The circle 2 is inside circle 1\")\n",
    "    elif dist_centres <= rad_diff1:\n",
    "        t.write(\"The circle 1 is inside circle 2\")\n",
    "    elif dist_centres <= rad_sum:\n",
    "        t.write(\"The circle 2 overlaps circle 1\")\n",
    "    else:\n",
    "        t.write(\"The circle 2 does not overlap circle 1\")\n",
    "    t.done()\n",
    "        \n",
    "x1,y1,r1 = eval(input(\"Enter circle1's center x-, y-coordinates, and radius:\"))\n",
    "x2,y2,r2 = eval(input(\"Enter circle2's center x-, y-coordinates, and radius:\"))\n",
    "overlap_int(x1,y1,x2,y2,r1,r2)"
   ]
  },
  {
   "cell_type": "markdown",
   "metadata": {
    "collapsed": true
   },
   "source": [
    "#### Chapter 5\n",
    "##### Q.5.9.\n",
    "##### Tuition calculation"
   ]
  },
  {
   "cell_type": "code",
   "execution_count": 2,
   "metadata": {
    "collapsed": false
   },
   "outputs": [
    {
     "name": "stdout",
     "output_type": "stream",
     "text": [
      "Final tuition after 10 years= $ 15513.282159785156\n",
      "Total cost of tuition for 4 years= $ 66864.185268944\n"
     ]
    }
   ],
   "source": [
    "tuition=[]\n",
    "initial = 10000\n",
    "rate = 0.05\n",
    "for i in range(10):\n",
    "    tuition.append(initial)\n",
    "    initial += initial * rate\n",
    "    \n",
    "print(\"Final tuition after 10 years= $\", tuition[9])\n",
    "new_initial = tuition[9]\n",
    "new_tuition=[]\n",
    "for i in range (4):\n",
    "    new_tuition.append(new_initial)\n",
    "    new_initial += new_initial * rate\n",
    "print(\"Total cost of tuition for 4 years= $\",sum(new_tuition[0:4]))"
   ]
  },
  {
   "cell_type": "markdown",
   "metadata": {
    "collapsed": true
   },
   "source": [
    "##### Q.5.11.\n",
    "##### Printing the highest score"
   ]
  },
  {
   "cell_type": "code",
   "execution_count": 2,
   "metadata": {
    "collapsed": false
   },
   "outputs": [
    {
     "name": "stdout",
     "output_type": "stream",
     "text": [
      "Enter number of students:3\n",
      "Enter score for student:89\n",
      "Enter score for student:45\n",
      "Enter score for student:23\n",
      "Highest score:  89\n",
      "Second highest score:  45\n"
     ]
    }
   ],
   "source": [
    "no_students = eval(input(\"Enter number of students:\"))\n",
    "stud_scores = []\n",
    "for i in range(no_students):\n",
    "    #name = input(\"Enter name for student :\")\n",
    "    score = eval(input(\"Enter score for student:\"))\n",
    "    stud_scores.append(score)\n",
    "    \n",
    "stud_scores.sort(reverse=True)\n",
    "print(\"Highest score: \",stud_scores[0])\n",
    "print(\"Second highest score: \",stud_scores[1])"
   ]
  },
  {
   "cell_type": "markdown",
   "metadata": {
    "collapsed": true
   },
   "source": [
    "##### Q.5.16.\n",
    "##### Finding GCD"
   ]
  },
  {
   "cell_type": "code",
   "execution_count": 4,
   "metadata": {
    "collapsed": false
   },
   "outputs": [
    {
     "name": "stdout",
     "output_type": "stream",
     "text": [
      "Enter 2 numbers:3,6\n",
      "Greatest Common Divisor of  3  and  6  is  3\n"
     ]
    }
   ],
   "source": [
    "def gcd(x,y):\n",
    "    d = min(x,y)\n",
    "    while d > 0:\n",
    "        if (x%d==0) and (y%d==0):\n",
    "            return d\n",
    "        else:\n",
    "            d -= 1\n",
    "            \n",
    "x,y = eval(input(\"Enter 2 numbers:\"))\n",
    "g_c_d=gcd(x,y)\n",
    "print(\"Greatest Common Divisor of \",x,\" and \",y,\" is \",g_c_d)"
   ]
  },
  {
   "cell_type": "markdown",
   "metadata": {
    "collapsed": true
   },
   "source": [
    "##### Q.5.19.\n",
    "##### Printing number pyramid"
   ]
  },
  {
   "cell_type": "code",
   "execution_count": 13,
   "metadata": {
    "collapsed": false
   },
   "outputs": [
    {
     "name": "stdout",
     "output_type": "stream",
     "text": [
      "Enter an integer from 1 to 15: 9\n",
      "                           \n",
      "                         1 \n",
      "                      2  1  2 \n",
      "                   3  2  1  2  3 \n",
      "                4  3  2  1  2  3  4 \n",
      "             5  4  3  2  1  2  3  4  5 \n",
      "          6  5  4  3  2  1  2  3  4  5  6 \n",
      "       7  6  5  4  3  2  1  2  3  4  5  6  7 \n",
      "    8  7  6  5  4  3  2  1  2  3  4  5  6  7  8 \n",
      " 9  8  7  6  5  4  3  2  1  2  3  4  5  6  7  8  9 \n",
      "\n"
     ]
    }
   ],
   "source": [
    "num = eval(input(\"Enter an integer from 1 to 15: \"))                                                                                           \n",
    "\n",
    "def as_str(i):\n",
    "    s = \"\"\n",
    "    if i <10: s = \" \"\n",
    "    return s + str(i)                                                                                                                                         \n",
    "\n",
    "allrows = \"\"\n",
    "for j in range(1,num+2):                                                                                                                               \n",
    "    row = \" \"*3*(num-j+1)                                                                                                                            \n",
    "    for i in range(j-1,1,-1):\n",
    "        s = as_str(i)\n",
    "        row+=s + \" \"                                                                                                                           \n",
    "    for i in range(1,j):\n",
    "        s = as_str(i)\n",
    "        row+=s + \" \"\n",
    "    row +=\"\\n\"\n",
    "    allrows +=row\n",
    "\n",
    "print(allrows)"
   ]
  },
  {
   "cell_type": "markdown",
   "metadata": {
    "collapsed": true
   },
   "source": [
    "##### Q.5.26.\n",
    "##### Finding sum of series (1/3)+(3/5)+(5/7)+......"
   ]
  },
  {
   "cell_type": "code",
   "execution_count": 7,
   "metadata": {
    "collapsed": false
   },
   "outputs": [
    {
     "name": "stdout",
     "output_type": "stream",
     "text": [
      "Sum of the series is : 45.124450303050196\n"
     ]
    }
   ],
   "source": [
    "num = 1\n",
    "series_sum = 0\n",
    "while num < 98:\n",
    "    next_num = num + 2\n",
    "    series_sum += num/next_num\n",
    "    num = next_num\n",
    "print(\"Sum of the series is :\",series_sum)"
   ]
  },
  {
   "cell_type": "markdown",
   "metadata": {
    "collapsed": true
   },
   "source": [
    "##### Q.5.30. \n",
    "##### Printing the first day of each month of a year based on the user's input."
   ]
  },
  {
   "cell_type": "code",
   "execution_count": 4,
   "metadata": {
    "collapsed": false
   },
   "outputs": [
    {
     "name": "stdout",
     "output_type": "stream",
     "text": [
      "Enter a year(yyyy):2013\n",
      "Enter a number for the weekday for the first day of the year (1-Monday,...7-Sunday):2\n",
      "January  1,  2013  is  Tuesday\n",
      "February  1,  2013  is  Tuesday\n",
      "March  1,  2013  is  Friday\n",
      "April  1,  2013  is  Sunday\n",
      "May  1,  2013  is  Wednesday\n",
      "June  1,  2013  is  Friday\n",
      "July  1,  2013  is  Monday\n",
      "August  1,  2013  is  Thursday\n",
      "September  1,  2013  is  Saturday\n",
      "October  1,  2013  is  Tuesday\n",
      "November  1,  2013  is  Thursday\n",
      "December  1,  2013  is  Sunday\n"
     ]
    }
   ],
   "source": [
    "import calendar as cd\n",
    "\n",
    "days = {1 : \"Monday\",\n",
    "     2 : \"Tuesday\",\n",
    "     3 : \"Wednesday\",\n",
    "     4 : \"Thursday\",\n",
    "     5 : \"Friday\",\n",
    "     6 : \"Saturday\",\n",
    "     7 : \"Sunday\"}\n",
    "\n",
    "months = { 1 : \"January\",\n",
    "         2 : \"February\",\n",
    "         3 : \"March\",\n",
    "         4 : \"April\",\n",
    "         5 : \"May\",\n",
    "         6 : \"June\",\n",
    "         7 : \"July\",\n",
    "         8 : \"August\",\n",
    "         9 : \"September\",\n",
    "         10 : \"October\",\n",
    "         11 : \"November\",\n",
    "         12 : \"December\"}\n",
    "year=eval(input(\"Enter a year(yyyy):\"))\n",
    "is_leap = cd.isleap(year)\n",
    "first_day = eval(input(\"Enter a number for the weekday for the first day of the year (1-Monday,...7-Sunday):\"))\n",
    "print(months[1],\" 1, \",year,\" is \",days[first_day])\n",
    "for key,value in months.items():\n",
    "    if key in (3,5,7,8,10,12):\n",
    "        first_day += 31%7\n",
    "        if first_day > 7:\n",
    "            first_day = first_day % 7\n",
    "        print(months[key],\" 1, \",year,\" is \",days[first_day])\n",
    "    elif key in (2,4,6,9,11):\n",
    "        if (key==2):\n",
    "            if (is_leap):\n",
    "                first_day += 29%7\n",
    "                if first_day > 7:\n",
    "                    first_day = first_day % 7\n",
    "                print(months[key],\" 1, \",year,\" is \",days[first_day])\n",
    "            else:\n",
    "                first_day += 28%7\n",
    "                if first_day > 7:\n",
    "                    first_day = first_day % 7\n",
    "                print(months[key],\" 1, \",year,\" is \",days[first_day])\n",
    "        else:\n",
    "            first_day += 30%7\n",
    "            if first_day > 7:\n",
    "                first_day = first_day % 7\n",
    "            print(months[key],\" 1, \",year,\" is \",days[first_day])\n"
   ]
  },
  {
   "cell_type": "markdown",
   "metadata": {
    "collapsed": true
   },
   "source": [
    "##### Q.5.36. \n",
    "##### Rock, Paper, Scissor game.\n",
    "##### Program generates 0,1,2 (R,P,S respectively).\n",
    "##### Program asks player to enter number corresponding to R,P or S.\n",
    "##### In the end will display a message if Player or program has won.\n",
    "##### Keep on playing until either user or program wins 2 times\n",
    "##### Rules:-\n",
    "#####        1. Rock(0) breaks Scissor(2)\n",
    "#####        2. Scissor(2) cuts Paper(1)\n",
    "#####        3. Paper(1) covers Rock(0)"
   ]
  },
  {
   "cell_type": "code",
   "execution_count": 5,
   "metadata": {
    "collapsed": false
   },
   "outputs": [
    {
     "name": "stdout",
     "output_type": "stream",
     "text": [
      "Choose Rock(0), Paper (1) or Scissor(2):0\n",
      "Rock breaks Scissor\n",
      "You:  1\n",
      "Machine:  0\n",
      "\n",
      "\n",
      "Choose Rock(0), Paper (1) or Scissor(2):2\n",
      "Scissor cuts Paper\n",
      "You:  2\n",
      "Machine:  0\n",
      "\n",
      "\n",
      "Your Final Score:  2\n",
      "Machine Final Score:  0\n",
      "You Win!!!\n",
      "\n",
      "\n",
      "\n"
     ]
    }
   ],
   "source": [
    "from random import randint\n",
    "\n",
    "game={0 : \"Rock\",\n",
    "     1 : \"Paper\",\n",
    "     3 : \"Scissor\"}\n",
    "\n",
    "player_score = 0\n",
    "machine_score = 0\n",
    "while True:\n",
    "    plr_choice = eval(input(\"Choose Rock(0), Paper (1) or Scissor(2):\"))\n",
    "    mc_choice = randint(0,2)\n",
    "    if plr_choice == 0 and mc_choice == 2 :\n",
    "        print(\"Rock breaks Scissor\")\n",
    "        player_score += 1\n",
    "    elif plr_choice == 2 and mc_choice == 0 :\n",
    "        print(\"Rock breaks Scissor\")\n",
    "        machine_score += 1\n",
    "    elif plr_choice == 2 and mc_choice == 1 :\n",
    "        print(\"Scissor cuts Paper\")\n",
    "        player_score += 1\n",
    "    elif plr_choice == 1 and mc_choice == 2 :\n",
    "        print(\"Scissor cuts Paper\")\n",
    "        machine_score += 1\n",
    "    elif plr_choice == 1 and mc_choice == 0 :\n",
    "        print(\"Paper covers Rock\")\n",
    "        player_score += 1\n",
    "    elif plr_choice == 0 and mc_choice == 1 :\n",
    "        print(\"Paper covers Rock\")\n",
    "        machine_score += 1\n",
    "    else:\n",
    "        print(\"DRAW!!! Pick again.\")\n",
    "    \n",
    "    print(\"You: \",player_score)\n",
    "    print(\"Machine: \",machine_score)\n",
    "    print(\"\\n\")\n",
    "    if (player_score >= 2) or (machine_score >= 2):\n",
    "        break\n",
    "    \n",
    "print(\"Your Final Score: \",player_score)\n",
    "print(\"Machine Final Score: \",machine_score)\n",
    "if player_score > machine_score:\n",
    "    print(\"You Win!!!\")\n",
    "    print(\"\\n\\n\")\n",
    "else:\n",
    "    print(\"Machine Wins. Best of Luck next time.\")\n",
    "    print(\"\\n\\n\")\n"
   ]
  },
  {
   "cell_type": "markdown",
   "metadata": {
    "collapsed": true
   },
   "source": [
    "##### Q.5.53.\n",
    "##### Plotting a sine function in red and cosine function in blue. "
   ]
  },
  {
   "cell_type": "code",
   "execution_count": 1,
   "metadata": {
    "collapsed": true
   },
   "outputs": [],
   "source": [
    "import turtle as t\n",
    "import math\n",
    "\n",
    "t.speed(10)\n",
    "\n",
    "# X and Y axis\n",
    "t.penup()\n",
    "t.goto(-200,0)\n",
    "t.pendown()\n",
    "t.forward(400)\n",
    "t.goto(180,5)\n",
    "t.goto(200,0)\n",
    "t.goto(180,-5)\n",
    "t.penup()\n",
    "t.goto(0,-200)\n",
    "t.left(90)\n",
    "t.pendown()\n",
    "t.forward(400)\n",
    "t.goto(-5,180)\n",
    "t.goto(0,200)\n",
    "t.goto(5,180)\n",
    "t.penup()\n",
    "\n",
    "\n",
    "# Labels\n",
    "t.goto(-100,-15)\n",
    "t.write(\"-2\\u03c0\")\n",
    "t.goto(0,0)\n",
    "t.write(\"-2\\u03c0\")\n",
    "t.goto(100,-15)\n",
    "t.write(\"-2\\u03c0\")\n",
    "\n",
    "# Sin Function\n",
    "t.color(\"red\")\n",
    "for x in range(-175, 176):\n",
    "    \n",
    "    t.goto(x, 50 * math.sin((x / 100) * 2 * math.pi))\n",
    "    t.pendown()\n",
    "    \n",
    "# Cos Function\n",
    "t.penup()\n",
    "t.color(\"blue\")\n",
    "for x in range(-175, 176):\n",
    "    t.goto(x, 50 * math.cos((x / 100) * 2 * math.pi))\n",
    "    t.pendown()\n",
    "\n",
    "t.hideturtle()\n",
    "t.done()"
   ]
  },
  {
   "cell_type": "markdown",
   "metadata": {
    "collapsed": true
   },
   "source": [
    "##### Q.5.54.\n",
    "##### Plotting square function."
   ]
  },
  {
   "cell_type": "code",
   "execution_count": 7,
   "metadata": {
    "collapsed": false
   },
   "outputs": [],
   "source": [
    "import turtle as t\n",
    "import math\n",
    "\n",
    "# X and Y axis\n",
    "t.penup()\n",
    "t.goto(-200,0)\n",
    "t.pendown()\n",
    "t.forward(400)\n",
    "t.goto(180,5)\n",
    "t.goto(200,0)\n",
    "t.goto(180,-5)\n",
    "t.penup()\n",
    "t.goto(0,-200)\n",
    "t.left(90)\n",
    "t.pendown()\n",
    "t.forward(400)\n",
    "t.goto(-5,180)\n",
    "t.goto(0,200)\n",
    "t.goto(5,180)\n",
    "t.penup()\n",
    "\n",
    "for x in range(-175,176):\n",
    "    t.speed(100)\n",
    "    # Dividing the function by 100 to reduce eccentricity\n",
    "    y=math.pow(x,2)/100\n",
    "    t.goto(x,y)\n",
    "    t.pendown()\n",
    "    \n",
    "t.hideturtle()\n",
    "t.done()"
   ]
  },
  {
   "cell_type": "markdown",
   "metadata": {
    "collapsed": true
   },
   "source": [
    "##### Q.5.55.\n",
    "##### Plotting chessboard."
   ]
  },
  {
   "cell_type": "code",
   "execution_count": 9,
   "metadata": {
    "collapsed": false
   },
   "outputs": [],
   "source": [
    "import turtle as t\n",
    "import math\n",
    "\n",
    "t.penup()\n",
    "for x in range (-200,200,50):\n",
    "    t.speed(200)\n",
    "    for y in range(200,-200,-50):\n",
    "        t.speed(200)\n",
    "        t.goto(x,y)\n",
    "        t.pendown()\n",
    "        if (((x/10)%2==0 and (y/10)%2>0) or ((x/10)%2>0 and (y/10)%2==0)):\n",
    "            t.begin_fill()\n",
    "            t.color(\"black\")\n",
    "        for i in range(0,4):\n",
    "            t.forward(50)\n",
    "            t.left(90)\n",
    "        t.end_fill()\n",
    "        t.penup()   \n",
    "    \n",
    "\n",
    "t.hideturtle()\n",
    "t.done()"
   ]
  },
  {
   "cell_type": "markdown",
   "metadata": {
    "collapsed": true
   },
   "source": [
    "#### Chapter 6. \n",
    "##### Q.6.2.\n",
    "##### Calculating sum of digits using function.\n",
    "##### Unfortunately already done in Chapter 2 Q.6."
   ]
  },
  {
   "cell_type": "code",
   "execution_count": 10,
   "metadata": {
    "collapsed": false
   },
   "outputs": [
    {
     "name": "stdout",
     "output_type": "stream",
     "text": [
      "Enter an integer:234\n",
      "The sum of the digits is:  9\n"
     ]
    }
   ],
   "source": [
    "def sum_dig(num):\n",
    "    sum_dig = 0\n",
    "    while (num > 0):\n",
    "        sum_dig += num % 10\n",
    "        num = num // 10\n",
    "    print(\"The sum of the digits is: \", sum_dig)\n",
    "    \n",
    "number = eval(input(\"Enter an integer:\"))\n",
    "sum_dig(number)"
   ]
  },
  {
   "cell_type": "markdown",
   "metadata": {
    "collapsed": true
   },
   "source": [
    "##### Q.6.3.\n",
    "##### Getting a palindrome of a number or know if it is a palindrome or not."
   ]
  },
  {
   "cell_type": "code",
   "execution_count": 3,
   "metadata": {
    "collapsed": false
   },
   "outputs": [
    {
     "name": "stdout",
     "output_type": "stream",
     "text": [
      "Enter an integer:121\n",
      "Reversal of the number is  121\n",
      "121  is a Palindrome.\n"
     ]
    }
   ],
   "source": [
    "\n",
    "def reverse(number):\n",
    "    rev=0\n",
    "    i=0\n",
    "    while (number>0):\n",
    "        rev += (number%10)*(10 ** (len(str(number))-1))\n",
    "        number = number // 10\n",
    "        i += 1\n",
    "    return rev\n",
    "\n",
    "def isPalindrome(number):\n",
    "    if number == reverse(number):\n",
    "        return True\n",
    "    else:\n",
    "        return False\n",
    "    \n",
    "num = eval(input(\"Enter an integer:\"))\n",
    "print(\"Reversal of the number is \",reverse(num))\n",
    "if isPalindrome(num) == True:\n",
    "    print(num,\" is a Palindrome.\")\n",
    "else:\n",
    "    print(num,\" is not a Palindrome.\")\n"
   ]
  },
  {
   "cell_type": "markdown",
   "metadata": {
    "collapsed": true
   },
   "source": [
    "##### Q.6.10.\n",
    "##### Finding all the prime numbers less than 10000."
   ]
  },
  {
   "cell_type": "code",
   "execution_count": 4,
   "metadata": {
    "collapsed": false
   },
   "outputs": [
    {
     "name": "stdout",
     "output_type": "stream",
     "text": [
      "[2, 3, 5, 7, 11, 13, 17, 19, 23, 29, 31, 37, 41, 43, 47, 53, 59, 61, 67, 71, 73, 79, 83, 89, 97, 101, 103, 107, 109, 113, 127, 131, 137, 139, 149, 151, 157, 163, 167, 173, 179, 181, 191, 193, 197, 199, 211, 223, 227, 229, 233, 239, 241, 251, 257, 263, 269, 271, 277, 281, 283, 293, 307, 311, 313, 317, 331, 337, 347, 349, 353, 359, 367, 373, 379, 383, 389, 397, 401, 409, 419, 421, 431, 433, 439, 443, 449, 457, 461, 463, 467, 479, 487, 491, 499, 503, 509, 521, 523, 541, 547, 557, 563, 569, 571, 577, 587, 593, 599, 601, 607, 613, 617, 619, 631, 641, 643, 647, 653, 659, 661, 673, 677, 683, 691, 701, 709, 719, 727, 733, 739, 743, 751, 757, 761, 769, 773, 787, 797, 809, 811, 821, 823, 827, 829, 839, 853, 857, 859, 863, 877, 881, 883, 887, 907, 911, 919, 929, 937, 941, 947, 953, 967, 971, 977, 983, 991, 997, 1009, 1013, 1019, 1021, 1031, 1033, 1039, 1049, 1051, 1061, 1063, 1069, 1087, 1091, 1093, 1097, 1103, 1109, 1117, 1123, 1129, 1151, 1153, 1163, 1171, 1181, 1187, 1193, 1201, 1213, 1217, 1223, 1229, 1231, 1237, 1249, 1259, 1277, 1279, 1283, 1289, 1291, 1297, 1301, 1303, 1307, 1319, 1321, 1327, 1361, 1367, 1373, 1381, 1399, 1409, 1423, 1427, 1429, 1433, 1439, 1447, 1451, 1453, 1459, 1471, 1481, 1483, 1487, 1489, 1493, 1499, 1511, 1523, 1531, 1543, 1549, 1553, 1559, 1567, 1571, 1579, 1583, 1597, 1601, 1607, 1609, 1613, 1619, 1621, 1627, 1637, 1657, 1663, 1667, 1669, 1693, 1697, 1699, 1709, 1721, 1723, 1733, 1741, 1747, 1753, 1759, 1777, 1783, 1787, 1789, 1801, 1811, 1823, 1831, 1847, 1861, 1867, 1871, 1873, 1877, 1879, 1889, 1901, 1907, 1913, 1931, 1933, 1949, 1951, 1973, 1979, 1987, 1993, 1997, 1999, 2003, 2011, 2017, 2027, 2029, 2039, 2053, 2063, 2069, 2081, 2083, 2087, 2089, 2099, 2111, 2113, 2129, 2131, 2137, 2141, 2143, 2153, 2161, 2179, 2203, 2207, 2213, 2221, 2237, 2239, 2243, 2251, 2267, 2269, 2273, 2281, 2287, 2293, 2297, 2309, 2311, 2333, 2339, 2341, 2347, 2351, 2357, 2371, 2377, 2381, 2383, 2389, 2393, 2399, 2411, 2417, 2423, 2437, 2441, 2447, 2459, 2467, 2473, 2477, 2503, 2521, 2531, 2539, 2543, 2549, 2551, 2557, 2579, 2591, 2593, 2609, 2617, 2621, 2633, 2647, 2657, 2659, 2663, 2671, 2677, 2683, 2687, 2689, 2693, 2699, 2707, 2711, 2713, 2719, 2729, 2731, 2741, 2749, 2753, 2767, 2777, 2789, 2791, 2797, 2801, 2803, 2819, 2833, 2837, 2843, 2851, 2857, 2861, 2879, 2887, 2897, 2903, 2909, 2917, 2927, 2939, 2953, 2957, 2963, 2969, 2971, 2999, 3001, 3011, 3019, 3023, 3037, 3041, 3049, 3061, 3067, 3079, 3083, 3089, 3109, 3119, 3121, 3137, 3163, 3167, 3169, 3181, 3187, 3191, 3203, 3209, 3217, 3221, 3229, 3251, 3253, 3257, 3259, 3271, 3299, 3301, 3307, 3313, 3319, 3323, 3329, 3331, 3343, 3347, 3359, 3361, 3371, 3373, 3389, 3391, 3407, 3413, 3433, 3449, 3457, 3461, 3463, 3467, 3469, 3491, 3499, 3511, 3517, 3527, 3529, 3533, 3539, 3541, 3547, 3557, 3559, 3571, 3581, 3583, 3593, 3607, 3613, 3617, 3623, 3631, 3637, 3643, 3659, 3671, 3673, 3677, 3691, 3697, 3701, 3709, 3719, 3727, 3733, 3739, 3761, 3767, 3769, 3779, 3793, 3797, 3803, 3821, 3823, 3833, 3847, 3851, 3853, 3863, 3877, 3881, 3889, 3907, 3911, 3917, 3919, 3923, 3929, 3931, 3943, 3947, 3967, 3989, 4001, 4003, 4007, 4013, 4019, 4021, 4027, 4049, 4051, 4057, 4073, 4079, 4091, 4093, 4099, 4111, 4127, 4129, 4133, 4139, 4153, 4157, 4159, 4177, 4201, 4211, 4217, 4219, 4229, 4231, 4241, 4243, 4253, 4259, 4261, 4271, 4273, 4283, 4289, 4297, 4327, 4337, 4339, 4349, 4357, 4363, 4373, 4391, 4397, 4409, 4421, 4423, 4441, 4447, 4451, 4457, 4463, 4481, 4483, 4493, 4507, 4513, 4517, 4519, 4523, 4547, 4549, 4561, 4567, 4583, 4591, 4597, 4603, 4621, 4637, 4639, 4643, 4649, 4651, 4657, 4663, 4673, 4679, 4691, 4703, 4721, 4723, 4729, 4733, 4751, 4759, 4783, 4787, 4789, 4793, 4799, 4801, 4813, 4817, 4831, 4861, 4871, 4877, 4889, 4903, 4909, 4919, 4931, 4933, 4937, 4943, 4951, 4957, 4967, 4969, 4973, 4987, 4993, 4999, 5003, 5009, 5011, 5021, 5023, 5039, 5051, 5059, 5077, 5081, 5087, 5099, 5101, 5107, 5113, 5119, 5147, 5153, 5167, 5171, 5179, 5189, 5197, 5209, 5227, 5231, 5233, 5237, 5261, 5273, 5279, 5281, 5297, 5303, 5309, 5323, 5333, 5347, 5351, 5381, 5387, 5393, 5399, 5407, 5413, 5417, 5419, 5431, 5437, 5441, 5443, 5449, 5471, 5477, 5479, 5483, 5501, 5503, 5507, 5519, 5521, 5527, 5531, 5557, 5563, 5569, 5573, 5581, 5591, 5623, 5639, 5641, 5647, 5651, 5653, 5657, 5659, 5669, 5683, 5689, 5693, 5701, 5711, 5717, 5737, 5741, 5743, 5749, 5779, 5783, 5791, 5801, 5807, 5813, 5821, 5827, 5839, 5843, 5849, 5851, 5857, 5861, 5867, 5869, 5879, 5881, 5897, 5903, 5923, 5927, 5939, 5953, 5981, 5987, 6007, 6011, 6029, 6037, 6043, 6047, 6053, 6067, 6073, 6079, 6089, 6091, 6101, 6113, 6121, 6131, 6133, 6143, 6151, 6163, 6173, 6197, 6199, 6203, 6211, 6217, 6221, 6229, 6247, 6257, 6263, 6269, 6271, 6277, 6287, 6299, 6301, 6311, 6317, 6323, 6329, 6337, 6343, 6353, 6359, 6361, 6367, 6373, 6379, 6389, 6397, 6421, 6427, 6449, 6451, 6469, 6473, 6481, 6491, 6521, 6529, 6547, 6551, 6553, 6563, 6569, 6571, 6577, 6581, 6599, 6607, 6619, 6637, 6653, 6659, 6661, 6673, 6679, 6689, 6691, 6701, 6703, 6709, 6719, 6733, 6737, 6761, 6763, 6779, 6781, 6791, 6793, 6803, 6823, 6827, 6829, 6833, 6841, 6857, 6863, 6869, 6871, 6883, 6899, 6907, 6911, 6917, 6947, 6949, 6959, 6961, 6967, 6971, 6977, 6983, 6991, 6997, 7001, 7013, 7019, 7027, 7039, 7043, 7057, 7069, 7079, 7103, 7109, 7121, 7127, 7129, 7151, 7159, 7177, 7187, 7193, 7207, 7211, 7213, 7219, 7229, 7237, 7243, 7247, 7253, 7283, 7297, 7307, 7309, 7321, 7331, 7333, 7349, 7351, 7369, 7393, 7411, 7417, 7433, 7451, 7457, 7459, 7477, 7481, 7487, 7489, 7499, 7507, 7517, 7523, 7529, 7537, 7541, 7547, 7549, 7559, 7561, 7573, 7577, 7583, 7589, 7591, 7603, 7607, 7621, 7639, 7643, 7649, 7669, 7673, 7681, 7687, 7691, 7699, 7703, 7717, 7723, 7727, 7741, 7753, 7757, 7759, 7789, 7793, 7817, 7823, 7829, 7841, 7853, 7867, 7873, 7877, 7879, 7883, 7901, 7907, 7919, 7927, 7933, 7937, 7949, 7951, 7963, 7993, 8009, 8011, 8017, 8039, 8053, 8059, 8069, 8081, 8087, 8089, 8093, 8101, 8111, 8117, 8123, 8147, 8161, 8167, 8171, 8179, 8191, 8209, 8219, 8221, 8231, 8233, 8237, 8243, 8263, 8269, 8273, 8287, 8291, 8293, 8297, 8311, 8317, 8329, 8353, 8363, 8369, 8377, 8387, 8389, 8419, 8423, 8429, 8431, 8443, 8447, 8461, 8467, 8501, 8513, 8521, 8527, 8537, 8539, 8543, 8563, 8573, 8581, 8597, 8599, 8609, 8623, 8627, 8629, 8641, 8647, 8663, 8669, 8677, 8681, 8689, 8693, 8699, 8707, 8713, 8719, 8731, 8737, 8741, 8747, 8753, 8761, 8779, 8783, 8803, 8807, 8819, 8821, 8831, 8837, 8839, 8849, 8861, 8863, 8867, 8887, 8893, 8923, 8929, 8933, 8941, 8951, 8963, 8969, 8971, 8999, 9001, 9007, 9011, 9013, 9029, 9041, 9043, 9049, 9059, 9067, 9091, 9103, 9109, 9127, 9133, 9137, 9151, 9157, 9161, 9173, 9181, 9187, 9199, 9203, 9209, 9221, 9227, 9239, 9241, 9257, 9277, 9281, 9283, 9293, 9311, 9319, 9323, 9337, 9341, 9343, 9349, 9371, 9377, 9391, 9397, 9403, 9413, 9419, 9421, 9431, 9433, 9437, 9439, 9461, 9463, 9467, 9473, 9479, 9491, 9497, 9511, 9521, 9533, 9539, 9547, 9551, 9587, 9601, 9613, 9619, 9623, 9629, 9631, 9643, 9649, 9661, 9677, 9679, 9689, 9697, 9719, 9721, 9733, 9739, 9743, 9749, 9767, 9769, 9781, 9787, 9791, 9803, 9811, 9817, 9829, 9833, 9839, 9851, 9857, 9859, 9871, 9883, 9887, 9901, 9907, 9923, 9929, 9931, 9941, 9949, 9967, 9973]\n",
      "The number of prime numbers less than 10000 is  1229\n"
     ]
    }
   ],
   "source": [
    "\n",
    "def isPrime(number):\n",
    "    divisor = 2\n",
    "    while divisor <= number/2:\n",
    "        if number%divisor == 0:\n",
    "            return False\n",
    "        divisor += 1\n",
    "    return True\n",
    "\n",
    "prime_numbers=[]\n",
    "for i in range(2,10001):\n",
    "    if isPrime(i):\n",
    "        prime_numbers.append(i)\n",
    "        \n",
    "print(prime_numbers)\n",
    "print(\"The number of prime numbers less than 10000 is \",len(prime_numbers))"
   ]
  },
  {
   "cell_type": "markdown",
   "metadata": {
    "collapsed": true
   },
   "source": [
    "##### Q.6.18.\n",
    "##### Printing a n*n matrix of 1s and 0s generated randomly."
   ]
  },
  {
   "cell_type": "code",
   "execution_count": 8,
   "metadata": {
    "collapsed": false
   },
   "outputs": [
    {
     "name": "stdout",
     "output_type": "stream",
     "text": [
      "Enter number of rows and columns desired in the matrix:3\n",
      "[[ 0.  0.  0.]\n",
      " [ 0.  0.  1.]\n",
      " [ 1.  1.  0.]]\n"
     ]
    }
   ],
   "source": [
    "import numpy as np\n",
    "from random import randint as rd\n",
    "\n",
    "n = eval(input(\"Enter number of rows and columns desired in the matrix:\"))\n",
    "matrix = np.empty(shape=(n,n))\n",
    "for row in range(n):\n",
    "    for col in range(n):\n",
    "        matrix[row][col]=int(rd(0,1))\n",
    "        \n",
    "print(matrix)"
   ]
  },
  {
   "cell_type": "markdown",
   "metadata": {
    "collapsed": true
   },
   "source": [
    "##### Q.6.24.\n",
    "##### To calculate and pretty-print the first 100 palindromic prime numbers."
   ]
  },
  {
   "cell_type": "code",
   "execution_count": 10,
   "metadata": {
    "collapsed": false
   },
   "outputs": [
    {
     "name": "stdout",
     "output_type": "stream",
     "text": [
      "2\t3\t5\t7\t11\t101\t131\t151\t181\t191\n",
      "313\t353\t373\t383\t727\t757\t787\t797\t919\t929\n",
      "10301\t10501\t10601\t11311\t11411\t12421\t12721\t12821\t13331\t13831\n",
      "13931\t14341\t14741\t15451\t15551\t16061\t16361\t16561\t16661\t17471\n",
      "17971\t18181\t18481\t19391\t19891\t19991\t30103\t30203\t30403\t30703\n",
      "30803\t31013\t31513\t32323\t32423\t33533\t34543\t34843\t35053\t35153\n",
      "35353\t35753\t36263\t36563\t37273\t37573\t38083\t38183\t38783\t39293\n",
      "70207\t70507\t70607\t71317\t71917\t72227\t72727\t73037\t73237\t73637\n",
      "74047\t74747\t75557\t76367\t76667\t77377\t77477\t77977\t78487\t78787\n",
      "78887\t79397\t79697\t79997\t90709\t91019\t93139\t93239\t93739\t94049\n"
     ]
    }
   ],
   "source": [
    "def isPrime(number):\n",
    "    divisor = 2\n",
    "    while divisor <= number/2:\n",
    "        if number%divisor == 0:\n",
    "            return False\n",
    "        divisor += 1\n",
    "    return True\n",
    "\n",
    "def reverse(number):\n",
    "    rev=0\n",
    "    i=0\n",
    "    while (number>0):\n",
    "        rev += (number%10)*(10 ** (len(str(number))-1))\n",
    "        number = number // 10\n",
    "        i += 1\n",
    "    return rev\n",
    "\n",
    "def isPalindrome(number):\n",
    "    if number == reverse(number):\n",
    "        return True\n",
    "    else:\n",
    "        return False\n",
    "\n",
    "num=2\n",
    "pal_prime_count =0\n",
    "while pal_prime_count<100:\n",
    "    if isPrime(num) and isPalindrome(num):\n",
    "        pal_prime_count += 1\n",
    "        if pal_prime_count%10==0:\n",
    "            print(num)\n",
    "        else:\n",
    "            print(num,end='\\t')\n",
    "    num += 1\n"
   ]
  },
  {
   "cell_type": "markdown",
   "metadata": {
    "collapsed": true
   },
   "source": [
    "##### Q.6.29.\n",
    "##### Implementing Luhn check algorithm."
   ]
  },
  {
   "cell_type": "code",
   "execution_count": 20,
   "metadata": {
    "collapsed": false
   },
   "outputs": [
    {
     "name": "stdout",
     "output_type": "stream",
     "text": [
      "Enter you Credit Card number:4388576018410707\n",
      "Possibly Visa\n",
      "The Card is Valid\n"
     ]
    }
   ],
   "source": [
    "def sum_dig(num):\n",
    "    sum_dig = 0\n",
    "    while (num > 0):\n",
    "        sum_dig += num % 10\n",
    "        num = num // 10\n",
    "    return sum_dig\n",
    "\n",
    "def getDigit(digit):\n",
    "    digit *= 2\n",
    "    if digit > 9:\n",
    "        return sum_dig(digit)\n",
    "    else:\n",
    "        return digit\n",
    "    \n",
    "def sumOfDoubleEvenPlace(number):\n",
    "    n=0\n",
    "    sum_even=0\n",
    "    while number > 0:\n",
    "        digit=number%10\n",
    "        if n%2 == 0:\n",
    "            sum_even += digit\n",
    "        n += 1\n",
    "        number//=10\n",
    "    return sum_even\n",
    "\n",
    "def sumOfDoubleOddPlace(number):\n",
    "    n=0\n",
    "    sum_odd=0\n",
    "    while number > 0:\n",
    "        digit=number%10\n",
    "        if n%2 != 0:\n",
    "            digit=getDigit(digit)\n",
    "            sum_odd += digit\n",
    "        n += 1\n",
    "        number//=10\n",
    "    return sum_odd\n",
    "\n",
    "def isValid(number):\n",
    "    validity=0\n",
    "    num_str = str(number)\n",
    "    if len(num_str)>13 or len(num_str)<=16:\n",
    "        if num_str[0] == \"4\":\n",
    "            print(\"Possibly Visa\")\n",
    "        elif num_str[0] == \"5\":\n",
    "            print(\"Possibly MasterCard\")\n",
    "        elif num_str[0] == \"6\":\n",
    "            print(\"Possibly Discover\")\n",
    "        elif num_str[0:2] == \"37\":\n",
    "            print(\"Possibly American Express\")\n",
    "        else:\n",
    "            return validity\n",
    "    else:\n",
    "        return validity\n",
    "    \n",
    "    \n",
    "    sum_odd_places = sumOfDoubleOddPlace(number)\n",
    "    \n",
    "    sum_even_places = sumOfDoubleEvenPlace(number)\n",
    "    \n",
    "    tot_sum = sum_odd_places + sum_even_places\n",
    "    \n",
    "    \n",
    "    if tot_sum%10 == 0:\n",
    "        validity=1\n",
    "        \n",
    "    return validity\n",
    "\n",
    "card_number=eval(input(\"Enter you Credit Card number:\"))\n",
    "valid=isValid(card_number)\n",
    "if valid==1:\n",
    "    print(\"The Card is Valid\")\n",
    "else:\n",
    "    print(\"The card is Invalid\")"
   ]
  },
  {
   "cell_type": "markdown",
   "metadata": {
    "collapsed": true
   },
   "source": [
    "##### Q.6.41.\n",
    "##### Drawing Rectangle and Circle of given dimensions and random points within the two figures."
   ]
  },
  {
   "cell_type": "code",
   "execution_count": 9,
   "metadata": {
    "collapsed": false
   },
   "outputs": [],
   "source": [
    "import turtle as t\n",
    "from random import randint\n",
    "import math\n",
    "\n",
    "# Drawing the Rectangle\n",
    "width=100\n",
    "height=100\n",
    "x=-75\n",
    "y=0\n",
    "t.penup() \n",
    "t.goto(x + width / 2, y + height / 2)\n",
    "t.pendown()\n",
    "t.right(90)\n",
    "t.forward(height)\n",
    "t.right(90)\n",
    "t.forward(width)\n",
    "t.right(90)\n",
    "t.forward(height)\n",
    "t.right(90)\n",
    "t.forward(width)\n",
    "\n",
    "# Drawing the Circle\n",
    "radius=50\n",
    "x=50\n",
    "y=0\n",
    "t.penup()\n",
    "t.goto(x, y - radius)\n",
    "t.pendown()\n",
    "t.circle(radius) \n",
    "\n",
    "# Drawing points within the rectangle\n",
    "# Have kept it less than the dimensions just to make sure the point looks within the rectangle\n",
    "for i in range(10):\n",
    "    x=randint(-120,-30) #Actually -125,-25\n",
    "    y=randint(-45,45)  # Actually -50,50\n",
    "    t.penup() \n",
    "    t.goto(x, y)\n",
    "    t.pendown() \n",
    "    t.begin_fill() \n",
    "    t.circle(3) \n",
    "    t.end_fill()\n",
    "    \n",
    "# Drawing points within the circle\n",
    "point_count=0\n",
    "while point_count<10:\n",
    "    t.penup()\n",
    "    t.goto(50,0)\n",
    "    radius=50\n",
    "    x = randint(0, 2*radius)\n",
    "    y = randint(-radius, radius)\n",
    "    # Checking if the distance between center and point is less than radius(i.e. coordinates are within the circle)\n",
    "    # Have kept it less than the radius just to make sure the point looks within the circle\n",
    "    if math.sqrt((x-50) ** 2 + y ** 2) < (radius-5):\n",
    "        t.goto(x,y)\n",
    "        t.pendown()\n",
    "        t.begin_fill() \n",
    "        t.circle(3) \n",
    "        t.end_fill()\n",
    "        point_count+=1\n",
    "t.hideturtle()\n",
    "t.done()"
   ]
  },
  {
   "cell_type": "markdown",
   "metadata": {
    "collapsed": true
   },
   "source": [
    "#### Chapter 7\n",
    "##### Q.7.3.\n",
    "##### Creating Account Class."
   ]
  },
  {
   "cell_type": "code",
   "execution_count": 23,
   "metadata": {
    "collapsed": false
   },
   "outputs": [
    {
     "name": "stdout",
     "output_type": "stream",
     "text": [
      "Account ID:  1122\n",
      "Balance:  20500\n",
      "Monthly Interest Rate:  0.375\n",
      "Monthly Interest :  76.875\n"
     ]
    }
   ],
   "source": [
    "class Account():\n",
    "    def __init__(self,Id=0,bal=100.0,AnnualIntRate=0.0):\n",
    "        self.__id=Id\n",
    "        self.__balance=bal\n",
    "        self.__annualInterestRate=AnnualIntRate\n",
    "    \n",
    "    # Accessor Methods\n",
    "    def get_id(self):\n",
    "        return self.__id\n",
    "    \n",
    "    def get_balance(self):\n",
    "        return self.__balance\n",
    "    \n",
    "    def get_annual_interest_rate(self):\n",
    "        return self.__annualInterestRate\n",
    "    \n",
    "    # Mutator Methods\n",
    "    def set_id(self,Id):\n",
    "        self.__id=Id\n",
    "    \n",
    "    def set_balance(self,Balance):\n",
    "        self.__balance=Balance\n",
    "        \n",
    "    def set_annual_interest_rate(self,rate):\n",
    "        self.__annualInterestRate=rate\n",
    "        \n",
    "    # Other Methods\n",
    "    def getMonthlyInterestRate(self):\n",
    "        return (self.__annualInterestRate/12)\n",
    "    \n",
    "    def getMonthlyInterest(self):\n",
    "        rate = (self.__annualInterestRate/12)\n",
    "        interest = (rate/100) * self.__balance\n",
    "        return interest\n",
    "    \n",
    "    def withdraw(self,amt):\n",
    "        self.__balance -= amt\n",
    "        \n",
    "    def deposit(self,amt):\n",
    "        self.__balance += amt\n",
    "        \n",
    "        \n",
    "acc1 = Account(1122,20000,4.5)\n",
    "acc1.withdraw(2500)\n",
    "acc1.deposit(3000)\n",
    "print(\"Account ID: \", acc1.get_id())\n",
    "print(\"Balance: \",acc1.get_balance())\n",
    "print(\"Monthly Interest Rate: \",acc1.getMonthlyInterestRate())\n",
    "print(\"Monthly Interest : \", acc1.getMonthlyInterest())"
   ]
  },
  {
   "cell_type": "markdown",
   "metadata": {
    "collapsed": true
   },
   "source": [
    "##### Q.7.5.\n",
    "##### Creating Regular Polygon Class."
   ]
  },
  {
   "cell_type": "code",
   "execution_count": 1,
   "metadata": {
    "collapsed": false
   },
   "outputs": [
    {
     "name": "stdout",
     "output_type": "stream",
     "text": [
      "Polygon 1 Area:  0.43301270189221946\n",
      "Polygon 1 Perimeter:  3.0\n",
      "Polygon 2 Area:  41.569219381653056\n",
      "Polygon 2 Perimeter:  24\n",
      "Polygon 3 Area:  123.10734148701015\n",
      "Polygon 3 Perimeter:  40\n"
     ]
    }
   ],
   "source": [
    "import math\n",
    "\n",
    "class RegularPolygon():\n",
    "    def __init__(self,n=3,side=1.0,x=0.0,y=0.0):\n",
    "        self.__n=n\n",
    "        self.__side=side\n",
    "        self.__x=x\n",
    "        self.__y=y\n",
    "        \n",
    "    # Accessor Methods\n",
    "    def get_number_of_sides(self):\n",
    "        return self.n\n",
    "    \n",
    "    def get_side_length(self):\n",
    "        return self.__side\n",
    "    \n",
    "    def get_x_coordinate(self):\n",
    "        return self.__x\n",
    "    \n",
    "    def get_y_xoordinate(self):\n",
    "        return self.__y\n",
    "    \n",
    "    # Mutator Methods\n",
    "    def set_number_of_sides(self,n):\n",
    "        self.__n=n\n",
    "        \n",
    "    def set_side_length(self,side):\n",
    "        self.__side=side\n",
    "        \n",
    "    def set_x_coordinate(self,x):\n",
    "        self.__x = x\n",
    "        \n",
    "    def set_y_coordinate(self,y):\n",
    "        self.__y = y\n",
    "        \n",
    "    # Other Methods\n",
    "    def getPerimeter(self):\n",
    "        peri=self.__n*self.__side\n",
    "        return peri\n",
    "        \n",
    "    def getArea(self):\n",
    "        n = self.__n\n",
    "        s = self.__side\n",
    "        tan = math.tan(math.pi/n)\n",
    "        area = (n*(s**2))/(4*tan)\n",
    "        return area\n",
    "    \n",
    "poly1 = RegularPolygon()\n",
    "poly2 = RegularPolygon(6,4)\n",
    "poly3 = RegularPolygon(10,4,5.6,7.8)\n",
    "\n",
    "print(\"Polygon 1 Area: \",poly1.getArea())\n",
    "print(\"Polygon 1 Perimeter: \",poly1.getPerimeter())\n",
    "print(\"Polygon 2 Area: \",poly2.getArea())\n",
    "print(\"Polygon 2 Perimeter: \",poly2.getPerimeter())\n",
    "print(\"Polygon 3 Area: \",poly3.getArea())\n",
    "print(\"Polygon 3 Perimeter: \",poly3.getPerimeter())"
   ]
  },
  {
   "cell_type": "markdown",
   "metadata": {
    "collapsed": true
   },
   "source": [
    "##### Q.7.7.\n",
    "##### Creating Linear Equation Class."
   ]
  },
  {
   "cell_type": "code",
   "execution_count": 2,
   "metadata": {
    "collapsed": false
   },
   "outputs": [
    {
     "name": "stdout",
     "output_type": "stream",
     "text": [
      "Linear Equation 1:-\n",
      "The equation is Solvable.\n",
      "x is  -2.0  and y is  3.0\n",
      "Linear Equation 2:-\n",
      "The equation has no solutions.\n"
     ]
    }
   ],
   "source": [
    "class LinearEquation():\n",
    "    def __init__(self,a=0.0,b=0.0,c=0.0,d=0.0,e=0.0,f=0.0):\n",
    "        self.__a=a\n",
    "        self.__b=b\n",
    "        self.__c=c\n",
    "        self.__d=d\n",
    "        self.__e=e\n",
    "        self.__f=f\n",
    "    # Accessor Functions\n",
    "    def get_a(self):\n",
    "        return self.__a\n",
    "    \n",
    "    def get_b(self):\n",
    "        return self.__b\n",
    "    \n",
    "    def get_c(self):\n",
    "        return self.__c\n",
    "    \n",
    "    def get_d(self):\n",
    "        return self.__d\n",
    "    \n",
    "    def get_e(self):\n",
    "        return self.__e\n",
    "    \n",
    "    def get_f(self):\n",
    "        return self.__f\n",
    "    \n",
    "    # Other Methods\n",
    "    def isSolvable(self):\n",
    "        if ((self.__a*self.__d)-(self.__b*self.__c)) == 0:\n",
    "            return False\n",
    "        else:\n",
    "            return True\n",
    "        \n",
    "    def getX(self):\n",
    "        e = self.__e\n",
    "        d = self.__d\n",
    "        b = self.__b\n",
    "        f = self.__f\n",
    "        a = self.__a\n",
    "        c = self.__c\n",
    "        \n",
    "        x = ((e*d)-(b*f))/((a*d)-(b*c))\n",
    "        return x\n",
    "    \n",
    "    def getY(self):\n",
    "        e = self.__e\n",
    "        d = self.__d\n",
    "        b = self.__b\n",
    "        f = self.__f\n",
    "        a = self.__a\n",
    "        c = self.__c\n",
    "        \n",
    "        y=((a*f)-(e*c))/((a*d)-(b*c))\n",
    "        return y\n",
    "    \n",
    "print(\"Linear Equation 1:-\")\n",
    "eq1 = LinearEquation(9.0,4.0,3.0,-5.0,-6.0,-21.0)\n",
    "if eq1.isSolvable():\n",
    "    print(\"The equation is Solvable.\")\n",
    "    print(\"x is \", eq1.getX(), \" and y is \",eq1.getY())\n",
    "else:\n",
    "    print(\"The equation has no solutions.\")\n",
    "    \n",
    "print(\"Linear Equation 2:-\")\n",
    "eq2=LinearEquation(1.0,2.0,2.0,4.0,4.0,5.0)\n",
    "if eq2.isSolvable():\n",
    "    print(\"The equation is Solvable.\")\n",
    "    print(\"x is \", eq2.getX(), \" and y is \",eq2.getY())\n",
    "else:\n",
    "    print(\"The equation has no solutions.\")"
   ]
  },
  {
   "cell_type": "markdown",
   "metadata": {
    "collapsed": true
   },
   "source": [
    "##### Q.7.9.\n",
    "##### Finding Line Segment Intersection Points using Linear Algebra Class."
   ]
  },
  {
   "cell_type": "code",
   "execution_count": 9,
   "metadata": {
    "collapsed": false
   },
   "outputs": [
    {
     "name": "stdout",
     "output_type": "stream",
     "text": [
      "Enter coordinates of endpoints for Line1(x1,y1,x2,y2): 2.0,2.0,0,0\n",
      "Enter coordinates of endpoints for Line1(x3,y3,x4,y4): 0,2.0,2.0,0\n",
      "Slope for Line1: 1.0\n",
      "Slope fro Line2: -1.0\n",
      "The lines intersect at:\n",
      "x:  1.0 and y:  1.0\n"
     ]
    }
   ],
   "source": [
    "x1,y1,x2,y2=eval(input(\"Enter coordinates of endpoints for Line1(x1,y1,x2,y2): \"))\n",
    "x3,y3,x4,y4=eval(input(\"Enter coordinates of endpoints for Line1(x3,y3,x4,y4): \"))\n",
    "\n",
    "# Calculating Slopes\n",
    "m1 = (y2-y1)/(x2-x1)\n",
    "m2 = (y4-y3)/(x4-x3)\n",
    "print(\"Slope for Line1:\",m1)\n",
    "print(\"Slope fro Line2:\",m2)\n",
    "# Creating a Linear equation out of coordinates using an arbitary point (x,y)\n",
    "# y-y1=m1*x-m1*x1\n",
    "# m1*x - y = m1*x1 - y1   (ax + by = e)\n",
    "# Similar to the other set of line2\n",
    "# m2*x - y = m2*x3 - y3   (cx + dy = f)\n",
    "\n",
    "# Creating LinearEquation with the above data\n",
    "a=m1\n",
    "b=-1\n",
    "e=(m1*x1)-y1\n",
    "c=m2\n",
    "d=-1\n",
    "f=(m2*x3)-y3\n",
    "\n",
    "eq1=LinearEquation(a,b,c,d,e,f)\n",
    "if eq1.isSolvable():\n",
    "    print(\"The lines intersect at:\")\n",
    "    print(\"x: \", eq1.getX(), \"and y: \",eq1.getY())\n",
    "else:\n",
    "    print(\"The lines never intersect.\")"
   ]
  },
  {
   "cell_type": "markdown",
   "metadata": {
    "collapsed": true
   },
   "source": [
    "##### Q.7.10.\n",
    "##### Creating Time Class."
   ]
  },
  {
   "cell_type": "code",
   "execution_count": 5,
   "metadata": {
    "collapsed": false
   },
   "outputs": [
    {
     "name": "stdout",
     "output_type": "stream",
     "text": [
      "Current Time is  12 : 14 : 18\n",
      "Enter elapsed time in seconds (in seconds):555550\n",
      "Hours: 10\n",
      "Minutes: 19\n",
      "Seconds: 10\n",
      "The hour:minute:second for the elapsed time is  22 : 33 : 28\n"
     ]
    }
   ],
   "source": [
    "import datetime as dt\n",
    "\n",
    "class Time:\n",
    "    def __init__(self):\n",
    "        now = dt.datetime.now()\n",
    "        self.__hour=now.hour\n",
    "        self.__minute=now.minute\n",
    "        self.__second=now.second\n",
    "        \n",
    "    # Accessor Functions\n",
    "    def get_hour(self):\n",
    "        return self.__hour\n",
    "    \n",
    "    def get_minute(self):\n",
    "        return self.__minute\n",
    "    \n",
    "    def get_second(self):\n",
    "        return self.__second\n",
    "    \n",
    "    # Other Functions\n",
    "    def setTime(self,elapsedTime):\n",
    "        days=0\n",
    "        hours=0\n",
    "        minutes=0\n",
    "        seconds=0\n",
    "        days=elapsedTime//86400\n",
    "        elapsedTime = elapsedTime%86400\n",
    "        hours=elapsedTime//3600\n",
    "        elapsedTime=elapsedTime%3600\n",
    "        minutes=elapsedTime//60\n",
    "        elapsedTime = elapsedTime%60\n",
    "        seconds=elapsedTime\n",
    "        print(\"Hours:\",hours)\n",
    "        print(\"Minutes:\",minutes)\n",
    "        print(\"Seconds:\",seconds)\n",
    "        self.__hour += hours\n",
    "        self.__minute += minutes\n",
    "        self.__second += seconds\n",
    "        \n",
    "t1 = Time()\n",
    "print(\"Current Time is \",t1.get_hour(),\":\",t1.get_minute(),\":\",t1.get_second())\n",
    "elapsedTime = eval(input(\"Enter elapsed time in seconds (in seconds):\"))\n",
    "t1.setTime(elapsedTime)\n",
    "print(\"The hour:minute:second for the elapsed time is \",t1.get_hour(),\":\",t1.get_minute(),\":\",t1.get_second()) "
   ]
  },
  {
   "cell_type": "code",
   "execution_count": null,
   "metadata": {
    "collapsed": true
   },
   "outputs": [],
   "source": []
  }
 ],
 "metadata": {
  "anaconda-cloud": {},
  "kernelspec": {
   "display_name": "Python [default]",
   "language": "python",
   "name": "python3"
  },
  "language_info": {
   "codemirror_mode": {
    "name": "ipython",
    "version": 3
   },
   "file_extension": ".py",
   "mimetype": "text/x-python",
   "name": "python",
   "nbconvert_exporter": "python",
   "pygments_lexer": "ipython3",
   "version": "3.5.2"
  }
 },
 "nbformat": 4,
 "nbformat_minor": 1
}
